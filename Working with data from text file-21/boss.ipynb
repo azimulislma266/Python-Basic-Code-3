{
 "cells": [
  {
   "cell_type": "code",
   "execution_count": 27,
   "source": [
    "Reading = open( r'C:\\Users\\Azimul islam\\Desktop\\Reading.txt')\r\n",
    "\r\n",
    "\r\n",
    "\r\n",
    "for txt in Reading:\r\n",
    "    mylist=txt.split()\r\n",
    "    print(mylist)\r\n",
    "sum = 0\r\n",
    "for i in mylist:\r\n",
    "    sum = sum + int(i)\r\n",
    "print(sum)\r\n",
    "print(type(sum))\r\n",
    "    \r\n",
    "\r\n",
    "    \r\n",
    "       \r\n",
    "     \r\n",
    "     \r\n",
    "   \r\n",
    "   \r\n",
    "\r\n"
   ],
   "outputs": [
    {
     "output_type": "stream",
     "name": "stdout",
     "text": [
      "['18030', '2040', '607096', '6033']\n",
      "633199\n",
      "<class 'int'>\n"
     ]
    }
   ],
   "metadata": {}
  },
  {
   "cell_type": "code",
   "execution_count": null,
   "source": [],
   "outputs": [],
   "metadata": {}
  },
  {
   "cell_type": "code",
   "execution_count": null,
   "source": [],
   "outputs": [],
   "metadata": {}
  }
 ],
 "metadata": {
  "orig_nbformat": 4,
  "language_info": {
   "name": "python",
   "version": "3.8.8",
   "mimetype": "text/x-python",
   "codemirror_mode": {
    "name": "ipython",
    "version": 3
   },
   "pygments_lexer": "ipython3",
   "nbconvert_exporter": "python",
   "file_extension": ".py"
  },
  "kernelspec": {
   "name": "python3",
   "display_name": "Python 3.8.8 64-bit ('base': conda)"
  },
  "interpreter": {
   "hash": "6070b739bda494cd05c55c4dd1fefe4bc7f51a70f6d608882e1910222e9cc2a3"
  }
 },
 "nbformat": 4,
 "nbformat_minor": 2
}