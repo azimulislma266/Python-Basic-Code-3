{
 "cells": [
  {
   "cell_type": "code",
   "execution_count": 10,
   "source": [
    "TupleMultipal = 'Reshad,Sakil,Romja'\r\n",
    "print(TupleMultipal*2)"
   ],
   "outputs": [
    {
     "output_type": "stream",
     "name": "stdout",
     "text": [
      "Reshad,Sakil,RomjaReshad,Sakil,Romja\n"
     ]
    }
   ],
   "metadata": {}
  },
  {
   "cell_type": "code",
   "execution_count": 3,
   "source": [
    "\r\n",
    "#add tapol tapol ami jodi kono element add korta chi\r\n",
    "# thole list convert korta hobe \r\n",
    "\r\n",
    "my_tuple = ('apple','banana','mango','pen','goyaba','ciciga')\r\n",
    "\r\n",
    "my_tuple = list(my_tuple) #convert tupol to list\r\n",
    "# my_tuple.remove('mango') #removed tupol, \r\n",
    "\r\n",
    "my_tuple.append('Kola') # add list       \r\n",
    "my_tuple = tuple(my_tuple) # convert list to tupol\r\n",
    "x= my_tuple.index('goyaba') # tapol indexing \r\n",
    "\r\n",
    "tapol = ('1', '2', ' 3', '4','5')\r\n",
    "\r\n",
    "ConcatTuple = tapol+my_tuple\r\n",
    "                             \r\n",
    "print(ConcatTuple)\r\n",
    "type(my_tuple)\r\n",
    "\r\n",
    "print(ConcatTuple [2 : : 5])\r\n",
    "print(ConcatTuple [ 3:8:4 ])\r\n",
    "\r\n",
    "\r\n"
   ],
   "outputs": [
    {
     "output_type": "stream",
     "name": "stdout",
     "text": [
      "('1', '2', ' 3', '4', '5', 'apple', 'banana', 'mango', 'pen', 'goyaba', 'ciciga', 'Kola')\n",
      "(' 3', 'mango')\n",
      "('4', 'mango')\n",
      "('1', '2', ' 3', '4', '5', 'apple', 'banana', 'mango', 'pen', 'goyaba', 'ciciga', 'Kola')\n"
     ]
    }
   ],
   "metadata": {}
  },
  {
   "cell_type": "code",
   "execution_count": 4,
   "source": [
    "my_tapol = ('apple','banana','mango','pen','goyaba','ciciga')\r\n",
    "\r\n",
    "Len = len(my_tapol)\r\n",
    "print(Len)\r\n",
    "my_tapol= my_tapol[5]\r\n",
    "\r\n",
    "print(my_tapol)\r\n",
    "type(my_tapol) # ami jodi dekta chi tapol a koyta eliment ace exampol\r\n",
    "\r\n",
    "\r\n",
    "\r\n",
    "\r\n",
    "\r\n"
   ],
   "outputs": [
    {
     "output_type": "stream",
     "name": "stdout",
     "text": [
      "6\n",
      "ciciga\n"
     ]
    },
    {
     "output_type": "execute_result",
     "data": {
      "text/plain": [
       "str"
      ]
     },
     "metadata": {},
     "execution_count": 4
    }
   ],
   "metadata": {}
  }
 ],
 "metadata": {
  "orig_nbformat": 4,
  "language_info": {
   "name": "python",
   "version": "3.8.8",
   "mimetype": "text/x-python",
   "codemirror_mode": {
    "name": "ipython",
    "version": 3
   },
   "pygments_lexer": "ipython3",
   "nbconvert_exporter": "python",
   "file_extension": ".py"
  },
  "kernelspec": {
   "name": "python3",
   "display_name": "Python 3.8.8 64-bit ('base': conda)"
  },
  "interpreter": {
   "hash": "6070b739bda494cd05c55c4dd1fefe4bc7f51a70f6d608882e1910222e9cc2a3"
  }
 },
 "nbformat": 4,
 "nbformat_minor": 2
}