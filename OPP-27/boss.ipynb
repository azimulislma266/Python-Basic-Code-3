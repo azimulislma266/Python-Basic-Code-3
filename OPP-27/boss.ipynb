{
 "cells": [
  {
   "cell_type": "code",
   "execution_count": 18,
   "source": [
    "\r\n",
    "class From():\r\n",
    "    x = 10\r\n",
    "    def __init__(self):\r\n",
    "        pass\r\n",
    "    \r\n",
    "    def local(self):\r\n",
    "        print('This is a consutor')\r\n",
    "        \r\n",
    "    def increase(self,z):\r\n",
    "        self.x = self.x + z\r\n",
    "    \r\n",
    "    def prints(self):\r\n",
    "        return self.x\r\n",
    "        \r\n",
    "    def NewFunc(self):\r\n",
    "        self.m = 50\r\n",
    "        self.x = self.m ** self.x\r\n",
    "        return self.x\r\n",
    "     \r\n",
    "    def returns(self):\r\n",
    "        return self.x       \r\n",
    "    \r\n",
    "y = From()   \r\n",
    "y.local() \r\n",
    "y.increase(10)\r\n",
    "y.prints()    \r\n",
    "y.NewFunc()\r\n",
    "            \r\n",
    "            \r\n",
    "    "
   ],
   "outputs": [
    {
     "output_type": "stream",
     "name": "stdout",
     "text": [
      "This is a consutor\n"
     ]
    },
    {
     "output_type": "execute_result",
     "data": {
      "text/plain": [
       "9536743164062500000000000000000000"
      ]
     },
     "metadata": {},
     "execution_count": 18
    }
   ],
   "metadata": {}
  },
  {
   "cell_type": "code",
   "execution_count": 19,
   "source": [
    "\r\n",
    "class From():\r\n",
    "    \r\n",
    "    x = 10 \r\n",
    "    def __init__(self,v):\r\n",
    "        \r\n",
    "        self.x = self.x = v\r\n",
    "        \r\n",
    "    def local(self):\r\n",
    "        print('This is a consutor')\r\n",
    "        \r\n",
    "    def increase(self,z):\r\n",
    "        self.x = self.x + z\r\n",
    "    \r\n",
    "    def prints(self):\r\n",
    "        \r\n",
    "        return  self.x\r\n",
    "        \r\n",
    "        \r\n",
    "    \r\n",
    "y = From(15)   \r\n",
    "y.local() \r\n",
    "y.increase(10)\r\n",
    "y.prints()    \r\n",
    "            \r\n",
    "            "
   ],
   "outputs": [
    {
     "output_type": "stream",
     "name": "stdout",
     "text": [
      "This is a consutor\n"
     ]
    },
    {
     "output_type": "execute_result",
     "data": {
      "text/plain": [
       "25"
      ]
     },
     "metadata": {},
     "execution_count": 19
    }
   ],
   "metadata": {}
  }
 ],
 "metadata": {
  "orig_nbformat": 4,
  "language_info": {
   "name": "python",
   "version": "3.8.8",
   "mimetype": "text/x-python",
   "codemirror_mode": {
    "name": "ipython",
    "version": 3
   },
   "pygments_lexer": "ipython3",
   "nbconvert_exporter": "python",
   "file_extension": ".py"
  },
  "kernelspec": {
   "name": "python3",
   "display_name": "Python 3.8.8 64-bit ('base': conda)"
  },
  "interpreter": {
   "hash": "6070b739bda494cd05c55c4dd1fefe4bc7f51a70f6d608882e1910222e9cc2a3"
  }
 },
 "nbformat": 4,
 "nbformat_minor": 2
}